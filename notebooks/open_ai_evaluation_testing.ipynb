{
 "cells": [
  {
   "cell_type": "code",
   "execution_count": 6,
   "metadata": {},
   "outputs": [],
   "source": [
    "import os\n",
    "import openai"
   ]
  },
  {
   "cell_type": "code",
   "execution_count": 9,
   "metadata": {},
   "outputs": [],
   "source": [
    "real_description = \"This watercolor is the artist's self-portrait, a head-on view of a dark-skinned man filling the vertical sheet of paper where the top of his head and both ears are omitted. The face is rendered predominantly in shades of black and gray and painted in small blotches as a stitched quilt would be sewn together. The eyes are dark with white highlights, set beneath what looks like eyebrows created by darker patches. The darker areas define the nose, mouth, and facial structure, while lighter areas highlight portions of the forehead, cheeks, and chin. The image is set against a light tan or beige background. At the bottom edge, there's a burgundy or reddish-brown color that might represent clothing below the neck. A vertical line is running down the center of the image, suggesting a folded page.\"\n",
    "\n",
    "without_interpretation = \"This is a watercolor painting depicting a person's face in a head-on view. The artwork is vertically oriented, filling the entire sheet of paper. The face is dark-skinned and rendered in shades of black, gray, and blue, using small, quilt-like blotches that resemble a patchwork design. These blotches create a textured appearance across the face.\\n\\nThe eyes are dark with white highlights, set beneath darker patches that suggest eyebrows. The nose and mouth are defined by darker areas, while lighter shades highlight sections of the forehead, cheeks, and chin, giving depth to the facial structure. The top of the head and both ears are not visible within the frame.\\n\\nA vertical line runs down the center of the image, suggesting the page may be folded. The background is a light tan or beige, contrasting with the darker tones of the face. At the bottom edge, a burgundy or reddish-brown color hints at clothing beneath the neck.\"\n",
    "\n",
    "with_interpretation = \"This is a watercolor painting depicting a person's face in a head-on view. The artwork is vertically oriented, filling the entire sheet of paper. The face is dark-skinned and rendered in shades of black, gray, and blue, using small, quilt-like blotches that resemble a patchwork design. These blotches create a textured appearance across the face.\\n\\nThe eyes are dark with white highlights, set beneath darker patches that suggest eyebrows. The nose and mouth are defined by darker areas, while lighter shades highlight sections of the forehead, cheeks, and chin, giving depth to the facial structure. The top of the head and both ears are not visible within the frame.\\n\\nA vertical line runs down the center of the image, suggesting the page may be folded. The background is a light tan or beige, contrasting with the darker tones of the face. At the bottom edge, a burgundy or reddish-brown color hints at clothing beneath the neck. The overall style is expressive, focusing on texture and contrast.\"\n"
   ]
  },
  {
   "cell_type": "code",
   "execution_count": null,
   "metadata": {},
   "outputs": [
    {
     "name": "stdout",
     "output_type": "stream",
     "text": [
      "DESCRIPTION 1: 9\n",
      "\n",
      "This description excellently conveys the visual elements of the artwork without interpretation. It clearly describes the orientation, colors, and textures present in the painting, as well as the visual relationship between the face and the background. The use of terms like \"quilt-like blotches\" and the mention of shades provide a clear mental picture without delving into subjective analysis.\n",
      "\n",
      "DESCRIPTION 2: 8\n",
      "\n",
      "The description is mostly objective and detailed, providing a vivid depiction of the artwork. However, the final sentence introduces interpretation by mentioning \"expressive\" style, which slightly detracts from the focus on purely visual elements. Removing this interpretation would improve the description.\n"
     ]
    }
   ],
   "source": [
    "prompt = \"\"\n",
    "\n",
    "client = openai.OpenAI(api_key=os.getenv(\"OPENAI_API_KEY\"))\n",
    "model = \"gpt-4o\"      \n",
    "            # Make API call\n",
    "response = client.chat.completions.create(\n",
    "    model= model,\n",
    "    messages=[\n",
    "        {\n",
    "            \"role\": \"system\",\n",
    "            \"content\": \"You need to evaluate the visual description of 2 artwork provided with the intention that it is for a blind person. \" +\n",
    "            \"\"\" \n",
    "            You are an expert evaluator of visual descriptions for accessibility. Your task is to critically assess AI-generated descriptions of artwork based on official accessibility guidelines.\n",
    "\n",
    "            EVALUATION CRITERIA (Rate each description 1-10):\n",
    "\n",
    "            STRUCTURE & ORGANIZATION (25%):\n",
    "            - Does it start with a clear overview (subject, orientation, medium, style)?\n",
    "            - Is there a logical descriptive path (left-to-right, top-to-bottom, center outward)?\n",
    "            - Are complete sentences used with proper articles (\"the,\" \"a\")?\n",
    "            - Is the length appropriate (100-300 words)?\n",
    "\n",
    "            DESCRIPTIVE ACCURACY (30%):\n",
    "            - Are all visible elements described factually without interpretation?\n",
    "            - Is skin color described explicitly and consistently?\n",
    "            - Are people referred to as \"person,\" \"man,\" \"woman,\" etc. rather than \"figure\"?\n",
    "            - Are quantities specific rather than vague (\"large,\" \"many\")?\n",
    "\n",
    "            LANGUAGE & CLARITY (25%):\n",
    "            - Are everyday objects used to illustrate sizes or clarify elements?\n",
    "            - Is jargon avoided or properly defined?\n",
    "            - Are affirmative terms used instead of negative ones?\n",
    "            - Are colors described with familiar, specific terms?\n",
    "\n",
    "            ACCESSIBILITY FOCUS (20%):\n",
    "            - Does it help a blind person understand exactly what is visible?\n",
    "            - Is there NO interpretation, historical context, or subjective analysis?\n",
    "            - Are ambiguous details acknowledged clearly?\n",
    "            - Is the description purely visual and factual?\n",
    "\n",
    "            DEDUCTIONS:\n",
    "            - -2 points for any interpretation or subjective analysis\n",
    "            - -1 point for each instance of vague language (\"large,\" \"many,\" \"some\")\n",
    "            - -1 point for missing essential visual elements\n",
    "            - -1 point for inappropriate length (<100 or >300 words)\n",
    "            - -1 point for unclear descriptive path\n",
    "\n",
    "            Provide specific feedback explaining your rating and suggestions for improvement.\n",
    "            \"\"\"\n",
    "        },\n",
    "        {\n",
    "            \"role\": \"user\",\n",
    "            \"content\": f\"\"\"Please rate these two artwork descriptions:\n",
    "\n",
    "            DESCRIPTION 1 :\n",
    "            {without_interpretation}\n",
    "\n",
    "            DESCRIPTION 2 :\n",
    "            {with_interpretation}\n",
    "\n",
    "            Please provide corrected versions of both descriptions, focusing only on objective visual elements.\n",
    "            \"\"\"\n",
    "        }\n",
    "    ],\n",
    "    max_tokens=1000,\n",
    "    temperature=0.7\n",
    ")\n",
    "\n",
    "description = response.choices[0].message.content\n",
    "print(description)"
   ]
  },
  {
   "cell_type": "code",
   "execution_count": null,
   "metadata": {},
   "outputs": [],
   "source": []
  }
 ],
 "metadata": {
  "kernelspec": {
   "display_name": "voice-agent",
   "language": "python",
   "name": "voice-agent"
  },
  "language_info": {
   "codemirror_mode": {
    "name": "ipython",
    "version": 3
   },
   "file_extension": ".py",
   "mimetype": "text/x-python",
   "name": "python",
   "nbconvert_exporter": "python",
   "pygments_lexer": "ipython3",
   "version": "3.11.7"
  }
 },
 "nbformat": 4,
 "nbformat_minor": 2
}
