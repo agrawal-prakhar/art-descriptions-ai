{
 "cells": [
  {
   "cell_type": "code",
   "execution_count": 1,
   "metadata": {},
   "outputs": [],
   "source": [
    "import os\n",
    "import openai"
   ]
  },
  {
   "cell_type": "code",
   "execution_count": 3,
   "metadata": {},
   "outputs": [],
   "source": [
    "real_description = \"This watercolor is the artist's self-portrait, a head-on view of a dark-skinned man filling the vertical sheet of paper where the top of his head and both ears are omitted. The face is rendered predominantly in shades of black and gray and painted in small blotches as a stitched quilt would be sewn together. The eyes are dark with white highlights, set beneath what looks like eyebrows created by darker patches. The darker areas define the nose, mouth, and facial structure, while lighter areas highlight portions of the forehead, cheeks, and chin. The image is set against a light tan or beige background. At the bottom edge, there's a burgundy or reddish-brown color that might represent clothing below the neck. A vertical line is running down the center of the image, suggesting a folded page.\"\n",
    "\n",
    "without_interpretation = \"This is a watercolor painting depicting a person's face in a head-on view. The artwork is vertically oriented, filling the entire sheet of paper. The face is dark-skinned and rendered in shades of black, gray, and blue, using small, quilt-like blotches that resemble a patchwork design. These blotches create a textured appearance across the face.\\n\\nThe eyes are dark with white highlights, set beneath darker patches that suggest eyebrows. The nose and mouth are defined by darker areas, while lighter shades highlight sections of the forehead, cheeks, and chin, giving depth to the facial structure. The top of the head and both ears are not visible within the frame.\\n\\nA vertical line runs down the center of the image, suggesting the page may be folded. The background is a light tan or beige, contrasting with the darker tones of the face. At the bottom edge, a burgundy or reddish-brown color hints at clothing beneath the neck.\"\n",
    "\n",
    "with_interpretation = \"This is a watercolor painting depicting a person's face in a head-on view. The artwork is vertically oriented, filling the entire sheet of paper. The face is dark-skinned and rendered in shades of black, gray, and blue, using small, quilt-like blotches that resemble a patchwork design. These blotches create a textured appearance across the face.\\n\\nThe eyes are dark with white highlights, set beneath darker patches that suggest eyebrows. The nose and mouth are defined by darker areas, while lighter shades highlight sections of the forehead, cheeks, and chin, giving depth to the facial structure. The top of the head and both ears are not visible within the frame.\\n\\nA vertical line runs down the center of the image, suggesting the page may be folded. The background is a light tan or beige, contrasting with the darker tones of the face. At the bottom edge, a burgundy or reddish-brown color hints at clothing beneath the neck. The overall style is expressive, focusing on texture and contrast.\"\n"
   ]
  },
  {
   "cell_type": "code",
   "execution_count": null,
   "metadata": {},
   "outputs": [
    {
     "name": "stdout",
     "output_type": "stream",
     "text": [
      "DESCRIPTION 1:  \n",
      "This is a watercolor painting depicting a person's face in a head-on view. The artwork is vertically oriented, filling the entire sheet of paper. The face is dark-skinned, rendered in shades of black, gray, and blue, using small, quilt-like blotches that create a textured appearance across the face.  \n",
      "\n",
      "The eyes are dark with white highlights, set beneath darker patches. The nose and mouth are defined by darker areas, while lighter shades highlight sections of the forehead, cheeks, and chin, giving depth to the facial structure. The top of the head and both ears are not visible within the frame.  \n",
      "\n",
      "A vertical line runs down the center of the image. The background is a light tan or beige, contrasting with the darker tones of the face. At the bottom edge, a burgundy or reddish-brown color is present beneath the neck.  \n",
      "\n",
      "DESCRIPTION 2:  \n",
      "This is a watercolor painting depicting a person's face in a head-on view. The artwork is vertically oriented, filling the entire sheet of paper. The face is dark-skinned, rendered in shades of black, gray, and blue, using small, quilt-like blotches that create a textured appearance across the face.  \n",
      "\n",
      "The eyes are dark with white highlights, set beneath darker patches. The nose and mouth are defined by darker areas, while lighter shades highlight sections of the forehead, cheeks, and chin, giving depth to the facial structure. The top of the head and both ears are not visible within the frame.  \n",
      "\n",
      "A vertical line runs down the center of the image. The background is a light tan or beige, contrasting with the darker tones of the face. At the bottom edge, a burgundy or reddish-brown color is present beneath the neck.\n"
     ]
    }
   ],
   "source": [
    "prompt = \"\"\n",
    "\n",
    "client = openai.OpenAI(api_key=os.getenv(\"OPENAI_API_KEY\"))\n",
    "model = \"gpt-4o\"      \n",
    "            # Make API call\n",
    "response = client.chat.completions.create(\n",
    "    model= model,\n",
    "    messages=[\n",
    "        {\n",
    "            \"role\": \"system\",\n",
    "            \"content\": \"You need to evaluate and correct the  visual description of 2 artwork provided with the intention that it is for a blind person. \" +\n",
    "            \"\"\"\n",
    "\n",
    "            You are an expert editor of visual descriptions for accessibility. Your task is to review and correct AI-generated descriptions of artwork to ensure they follow official accessibility guidelines.\n",
    "\n",
    "            CORRECTION GUIDELINES:\n",
    "\n",
    "            STRUCTURE & ORGANIZATION:\n",
    "            - Ensure it starts with a clear overview (subject, orientation, medium, style)\n",
    "            - Maintain a logical descriptive path (left-to-right, top-to-bottom, center outward)\n",
    "            - Use complete sentences with proper articles (\"the,\" \"a\")\n",
    "            - Keep length appropriate (100-300 words)\n",
    "\n",
    "            DESCRIPTIVE ACCURACY:\n",
    "            - Remove ALL interpretations, subjective analysis, or artistic commentary\n",
    "            - Ensure skin color is described explicitly and consistently\n",
    "            - Refer to people as \"person,\" \"man,\" \"woman,\" etc. rather than \"figure\"\n",
    "            - Replace vague quantities (\"large,\" \"many,\" \"some\") with specific descriptions\n",
    "            - Remove any historical context or external knowledge\n",
    "\n",
    "            LANGUAGE & CLARITY:\n",
    "            - Use everyday objects to illustrate sizes or clarify elements\n",
    "            - Remove jargon or define specialized terms briefly\n",
    "            - Use affirmative terms instead of negative ones\n",
    "            - Use familiar, specific color terms\n",
    "            - Remove phrases like \"image of\" or \"picture of\"\n",
    "\n",
    "            ACCESSIBILITY FOCUS:\n",
    "            - Focus ONLY on what is visually apparent in the image\n",
    "            - Acknowledge ambiguity clearly when details are uncertain\n",
    "            - Remove any emotional or interpretive language\n",
    "            - Ensure the description helps a blind person understand exactly what is visible\n",
    "\n",
    "            EXCLUDE:\n",
    "            - Any interpretation of meaning, style, or artistic intent\n",
    "            - Historical context or background information\n",
    "            - Emotional responses or subjective reactions\n",
    "            - Photography credits, copyright, dimensions, or metadata\n",
    "\n",
    "            Provide the corrected description that is purely factual and visual.\n",
    "\n",
    "            \"\"\"\n",
    "        },\n",
    "        {\n",
    "            \"role\": \"user\",\n",
    "            \"content\": f\"\"\"Please evaluate and correct these two artwork descriptions:\n",
    "\n",
    "            DESCRIPTION 1 :\n",
    "            {without_interpretation}\n",
    "\n",
    "            DESCRIPTION 2 :\n",
    "            {with_interpretation}\n",
    "\n",
    "            Please provide corrected versions of both descriptions, focusing only on objective visual elements.\n",
    "            \"\"\"\n",
    "        }\n",
    "    ],\n",
    "    max_tokens=1000,\n",
    "    temperature=0.7\n",
    ")\n",
    "\n",
    "description = response.choices[0].message.content\n",
    "print(description)"
   ]
  },
  {
   "cell_type": "code",
   "execution_count": null,
   "metadata": {},
   "outputs": [],
   "source": []
  }
 ],
 "metadata": {
  "kernelspec": {
   "display_name": "voice-agent",
   "language": "python",
   "name": "voice-agent"
  },
  "language_info": {
   "codemirror_mode": {
    "name": "ipython",
    "version": 3
   },
   "file_extension": ".py",
   "mimetype": "text/x-python",
   "name": "python",
   "nbconvert_exporter": "python",
   "pygments_lexer": "ipython3",
   "version": "3.11.7"
  }
 },
 "nbformat": 4,
 "nbformat_minor": 2
}
