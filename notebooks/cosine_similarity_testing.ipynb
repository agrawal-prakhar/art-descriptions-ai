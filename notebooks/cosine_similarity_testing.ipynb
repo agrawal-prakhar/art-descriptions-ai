{
 "cells": [
  {
   "cell_type": "code",
   "execution_count": null,
   "metadata": {},
   "outputs": [],
   "source": [
    "real_description = \"\"\n",
    "\n",
    "without_interpretation = \"This is a watercolor painting depicting a person's face in a head-on view. The artwork is vertically oriented, filling the entire sheet of paper. The face is dark-skinned and rendered in shades of black, gray, and blue, using small, quilt-like blotches that resemble a patchwork design. These blotches create a textured appearance across the face.\\n\\nThe eyes are dark with white highlights, set beneath darker patches that suggest eyebrows. The nose and mouth are defined by darker areas, while lighter shades highlight sections of the forehead, cheeks, and chin, giving depth to the facial structure. The top of the head and both ears are not visible within the frame.\\n\\nA vertical line runs down the center of the image, suggesting the page may be folded. The background is a light tan or beige, contrasting with the darker tones of the face. At the bottom edge, a burgundy or reddish-brown color hints at clothing beneath the neck.\"\n",
    "\n",
    "with_interpretation = \"This is a watercolor painting depicting a person's face in a head-on view. The artwork is vertically oriented, filling the entire sheet of paper. The face is dark-skinned and rendered in shades of black, gray, and blue, using small, quilt-like blotches that resemble a patchwork design. These blotches create a textured appearance across the face.\\n\\nThe eyes are dark with white highlights, set beneath darker patches that suggest eyebrows. The nose and mouth are defined by darker areas, while lighter shades highlight sections of the forehead, cheeks, and chin, giving depth to the facial structure. The top of the head and both ears are not visible within the frame.\\n\\nA vertical line runs down the center of the image, suggesting the page may be folded. The background is a light tan or beige, contrasting with the darker tones of the face. At the bottom edge, a burgundy or reddish-brown color hints at clothing beneath the neck. The overall style is expressive, focusing on texture and contrast.\"\n"
   ]
  }
 ],
 "metadata": {
  "kernelspec": {
   "display_name": "Python 3",
   "language": "python",
   "name": "python3"
  },
  "language_info": {
   "name": "python",
   "version": "3.13.5"
  }
 },
 "nbformat": 4,
 "nbformat_minor": 2
}
